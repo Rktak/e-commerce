{
 "cells": [
  {
   "cell_type": "markdown",
   "id": "de0bf077-f97f-4c04-880a-6505fe670412",
   "metadata": {},
   "source": [
    "# Training model "
   ]
  },
  {
   "cell_type": "code",
   "execution_count": 3,
   "id": "07fefb58-ee9c-4767-85bd-36dd978a6761",
   "metadata": {},
   "outputs": [
    {
     "name": "stdout",
     "output_type": "stream",
     "text": [
      "                            Uniq Id            Crawl Timestamp  \\\n",
      "0  10d8b81dc693db8a3f92e19254525d53  2020-03-17 02:32:10 +0000   \n",
      "1  31ef1ee4961d3fcff33e363edd7677eb  2020-03-17 02:32:10 +0000   \n",
      "2  6943e517922b051cbec496be32fbb57f  2020-03-17 02:32:10 +0000   \n",
      "3  6778c794e6ac7112981d4ebb239d6826  2020-03-17 02:32:10 +0000   \n",
      "4  2335a28ae24db3b2191080bfd98a86e0  2020-03-17 02:32:10 +0000   \n",
      "\n",
      "                    Billing Uniq Id  Rating  \\\n",
      "0  c697dc43961526785292107b91a639e1     NaN   \n",
      "1  c697dc43961526785292107b91a639e1     NaN   \n",
      "2  c697dc43961526785292107b91a639e1     NaN   \n",
      "3  c697dc43961526785292107b91a639e1     NaN   \n",
      "4  c697dc43961526785292107b91a639e1     NaN   \n",
      "\n",
      "                                        Review Title  Review Rating  \\\n",
      "0                           Best Natural Deodorant!!            5.0   \n",
      "1          Schmidt's Charcoal Deodorant is the best!            5.0   \n",
      "2                  Beware. Defective or counterfeit.            1.0   \n",
      "3  Good for infrequent shavers in cooler months i...            3.0   \n",
      "4  This isn’t the true product and will hurt your...            1.0   \n",
      "\n",
      "     Review Date                       User Id                Brand  \\\n",
      "0  March 6, 2020  AGIZFDSHLSBZ7KHQ4FV65W7B3HMQ  Schmidt's Deodorant   \n",
      "1  March 6, 2020  AHOZPYWO6WE5MLAZZPDUAWNKKNRQ  Schmidt's Deodorant   \n",
      "2  March 6, 2020  AECC6GYWWLNCKSBG3DZDGFSYDOTA  Schmidt's Deodorant   \n",
      "3  March 5, 2020  AEOO6OOEO4QD7Z4F6C2FMZUCW7PA  Schmidt's Deodorant   \n",
      "4  March 2, 2020  AEHSDCGRIMVOUG6ST35FJ4FMMW5Q  Schmidt's Deodorant   \n",
      "\n",
      "                 Category   Sub Category  \\\n",
      "0  Beauty & Personal Care  Personal Care   \n",
      "1  Beauty & Personal Care  Personal Care   \n",
      "2  Beauty & Personal Care  Personal Care   \n",
      "3  Beauty & Personal Care  Personal Care   \n",
      "4  Beauty & Personal Care  Personal Care   \n",
      "\n",
      "                                 Product Description        Asin  \\\n",
      "0  Schmidt’s natural deodorant formulas use innov...  B071YYMZ19   \n",
      "1  Schmidt’s natural deodorant formulas use innov...  B071YYMZ19   \n",
      "2  Schmidt’s natural deodorant formulas use innov...  B071YYMZ19   \n",
      "3  Schmidt’s natural deodorant formulas use innov...  B071YYMZ19   \n",
      "4  Schmidt’s natural deodorant formulas use innov...  B071YYMZ19   \n",
      "\n",
      "                                                 Url  \\\n",
      "0  https://www.amazon.com/gp/customer-reviews/R2Q...   \n",
      "1  https://www.amazon.com/gp/customer-reviews/R14...   \n",
      "2  https://www.amazon.com/gp/customer-reviews/R2R...   \n",
      "3  https://www.amazon.com/gp/customer-reviews/RMI...   \n",
      "4  https://www.amazon.com/gp/customer-reviews/R1R...   \n",
      "\n",
      "                                      Review Content  Verified Purchase  \\\n",
      "0  This is the one natural deodorant that works f...  Verified Purchase   \n",
      "1  I am staying away from the conventional deodor...  Verified Purchase   \n",
      "2  Do not buy this from Amazon it's either defect...  Verified Purchase   \n",
      "3  I started using this because I was getting cys...                 NO   \n",
      "4  Dont buy this from amazon!!!! I never write re...  Verified Purchase   \n",
      "\n",
      "                    Helpful Review Count  Manufacturer Response  \n",
      "0                                      0                    NaN  \n",
      "1                                      0                    NaN  \n",
      "2  One person found this helpful Helpful                    NaN  \n",
      "3                                      0                    NaN  \n",
      "4  One person found this helpful Helpful                    NaN  \n"
     ]
    }
   ],
   "source": [
    "import pandas as pd\n",
    "\n",
    "# Load dataset (adjust path if necessary)\n",
    "data = pd.read_csv(\"amazon_com-product_reviews__20200101_20200331_sample.csv\")\n",
    "\n",
    "# Preview the dataset\n",
    "print(data.head())\n"
   ]
  },
  {
   "cell_type": "markdown",
   "id": "5bb5feca-c6b1-436c-b23a-7ff4a68407e0",
   "metadata": {},
   "source": [
    "## Preprocess the Data"
   ]
  },
  {
   "cell_type": "code",
   "execution_count": 5,
   "id": "63d020cb-9bf5-4fe6-b061-8b574819591b",
   "metadata": {},
   "outputs": [],
   "source": [
    "# data\n",
    "\n",
    "def label_sentiment(score):\n",
    "    if score > 3:\n",
    "        return \"positive\"\n",
    "    elif score == 3:\n",
    "        return \"neutral\"\n",
    "    else:\n",
    "        return \"negative\"\n",
    "\n",
    "# Apply the labeling function\n",
    "data['Sentiment'] = data['Review Rating'].apply(label_sentiment)\n"
   ]
  },
  {
   "cell_type": "code",
   "execution_count": 8,
   "id": "ab3907cc-c790-4d78-b0e6-0e864b647567",
   "metadata": {},
   "outputs": [
    {
     "name": "stdout",
     "output_type": "stream",
     "text": [
      "                                      Review Content Sentiment\n",
      "0  This is the one natural deodorant that works f...  positive\n",
      "1  I am staying away from the conventional deodor...  positive\n",
      "2  Do not buy this from Amazon it's either defect...  negative\n",
      "3  I started using this because I was getting cys...   neutral\n",
      "4  Dont buy this from amazon!!!! I never write re...  negative\n"
     ]
    }
   ],
   "source": [
    "# data\n",
    "\n",
    "\n",
    "reviews = data[['Review Content', 'Sentiment']].dropna()\n",
    "print(reviews.head())\n"
   ]
  },
  {
   "cell_type": "markdown",
   "id": "e997fb66-1bef-4160-a238-58838e152945",
   "metadata": {},
   "source": [
    "## Training the Sentiment Analysis Model"
   ]
  },
  {
   "cell_type": "code",
   "execution_count": 11,
   "id": "6f3125e4-28cd-4f60-abfa-821dc43867fa",
   "metadata": {},
   "outputs": [],
   "source": [
    "from sklearn.model_selection import train_test_split\n",
    "\n",
    "X = reviews['Review Content']\n",
    "y = reviews['Sentiment']\n",
    "\n",
    "X_train, X_test, y_train, y_test = train_test_split(X, y, test_size=0.2, random_state=42)\n"
   ]
  },
  {
   "cell_type": "code",
   "execution_count": 12,
   "id": "bdea9a4b-7e3c-48ff-b71a-1b12de1e04ea",
   "metadata": {},
   "outputs": [
    {
     "name": "stdout",
     "output_type": "stream",
     "text": [
      "Model trained successfully!\n"
     ]
    }
   ],
   "source": [
    "from sklearn.feature_extraction.text import CountVectorizer\n",
    "from sklearn.pipeline import make_pipeline\n",
    "from sklearn.naive_bayes import MultinomialNB\n",
    "\n",
    "model = make_pipeline(CountVectorizer(), MultinomialNB())\n",
    "model.fit(X_train, y_train)\n",
    "\n",
    "print(\"Model trained successfully!\")\n"
   ]
  },
  {
   "cell_type": "markdown",
   "id": "78931cdf-7c3b-4731-9677-7812434e18fb",
   "metadata": {},
   "source": [
    "## Evaluate the Model"
   ]
  },
  {
   "cell_type": "code",
   "execution_count": 13,
   "id": "b613ba28-9fb6-4831-a5d7-e2a9c9c8c6f3",
   "metadata": {},
   "outputs": [
    {
     "name": "stdout",
     "output_type": "stream",
     "text": [
      "              precision    recall  f1-score   support\n",
      "\n",
      "    negative       0.00      0.00      0.00         1\n",
      "    positive       0.90      1.00      0.95         9\n",
      "\n",
      "    accuracy                           0.90        10\n",
      "   macro avg       0.45      0.50      0.47        10\n",
      "weighted avg       0.81      0.90      0.85        10\n",
      "\n"
     ]
    },
    {
     "name": "stderr",
     "output_type": "stream",
     "text": [
      "C:\\Users\\pc\\AppData\\Local\\Programs\\Python\\Python312\\Lib\\site-packages\\sklearn\\metrics\\_classification.py:1565: UndefinedMetricWarning: Precision is ill-defined and being set to 0.0 in labels with no predicted samples. Use `zero_division` parameter to control this behavior.\n",
      "  _warn_prf(average, modifier, f\"{metric.capitalize()} is\", len(result))\n",
      "C:\\Users\\pc\\AppData\\Local\\Programs\\Python\\Python312\\Lib\\site-packages\\sklearn\\metrics\\_classification.py:1565: UndefinedMetricWarning: Precision is ill-defined and being set to 0.0 in labels with no predicted samples. Use `zero_division` parameter to control this behavior.\n",
      "  _warn_prf(average, modifier, f\"{metric.capitalize()} is\", len(result))\n",
      "C:\\Users\\pc\\AppData\\Local\\Programs\\Python\\Python312\\Lib\\site-packages\\sklearn\\metrics\\_classification.py:1565: UndefinedMetricWarning: Precision is ill-defined and being set to 0.0 in labels with no predicted samples. Use `zero_division` parameter to control this behavior.\n",
      "  _warn_prf(average, modifier, f\"{metric.capitalize()} is\", len(result))\n"
     ]
    }
   ],
   "source": [
    "from sklearn.metrics import classification_report\n",
    "\n",
    "predictions = model.predict(X_test)\n",
    "print(classification_report(y_test, predictions))\n"
   ]
  },
  {
   "cell_type": "markdown",
   "id": "0c48d1d3-6bb3-45b4-b8be-f5fb617412e8",
   "metadata": {},
   "source": [
    "## Save Model"
   ]
  },
  {
   "cell_type": "code",
   "execution_count": 14,
   "id": "99ac8baa-7e9f-4412-87a7-a87bef972ddb",
   "metadata": {},
   "outputs": [
    {
     "name": "stdout",
     "output_type": "stream",
     "text": [
      "Model saved as amazon_sentiment_model.pkl\n"
     ]
    }
   ],
   "source": [
    "import joblib\n",
    "\n",
    "joblib.dump(model, 'amazon_sentiment_model.pkl')\n",
    "print(\"Model saved as amazon_sentiment_model.pkl\")\n"
   ]
  },
  {
   "cell_type": "code",
   "execution_count": null,
   "id": "a022708b-abd0-4151-96c6-d50f4d1d1b2e",
   "metadata": {},
   "outputs": [],
   "source": []
  }
 ],
 "metadata": {
  "kernelspec": {
   "display_name": "Python 3 (ipykernel)",
   "language": "python",
   "name": "python3"
  },
  "language_info": {
   "codemirror_mode": {
    "name": "ipython",
    "version": 3
   },
   "file_extension": ".py",
   "mimetype": "text/x-python",
   "name": "python",
   "nbconvert_exporter": "python",
   "pygments_lexer": "ipython3",
   "version": "3.12.5"
  }
 },
 "nbformat": 4,
 "nbformat_minor": 5
}
